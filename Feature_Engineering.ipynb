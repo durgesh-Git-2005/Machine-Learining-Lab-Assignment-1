{
  "nbformat": 4,
  "nbformat_minor": 0,
  "metadata": {
    "colab": {
      "provenance": []
    },
    "kernelspec": {
      "name": "python3",
      "display_name": "Python 3"
    },
    "language_info": {
      "name": "python"
    }
  },
  "cells": [
    {
      "cell_type": "code",
      "source": [
        "import numpy as np\n",
        "\n",
        "# Create a 1xN dimensional array (feature vector)\n",
        "feature_vector = np.array([1, 2, 3, 4, 5])\n",
        "\n",
        "# Mean represents the average value of the  given vector space\n",
        "mean = np.mean(feature_vector)\n",
        "\n",
        "# varience represesnts the amount of difference between the mean to each element or number in the space.\n",
        "variance = np.var(feature_vector)\n",
        "\n",
        "print(\"Feature Vector:\", feature_vector)\n",
        "print(\"Mean:\", mean)\n",
        "print(\"Variance:\", variance)"
      ],
      "metadata": {
        "colab": {
          "base_uri": "https://localhost:8080/"
        },
        "id": "3exmLQ7TGq-_",
        "outputId": "3a39f5e8-9f63-4d8f-e17b-e160b5008af6"
      },
      "execution_count": null,
      "outputs": [
        {
          "output_type": "stream",
          "name": "stdout",
          "text": [
            "Feature Vector: [1 2 3 4 5]\n",
            "Mean: 3.0\n",
            "Variance: 2.0\n"
          ]
        }
      ]
    },
    {
      "cell_type": "code",
      "source": [
        "import numpy as np\n",
        "\n",
        "#creating two vectors\n",
        "vec1 = np.array([1,2,3,4,5])\n",
        "vec2 = np.array([1,3,4,5,2])\n",
        "\n",
        "mean1 = np.mean(vec1)\n",
        "mean2 = np.mean(vec2)\n",
        "\n",
        "if vec1.shape[0] != vec2.shape[0]:\n",
        "    raise ValueError(\"Vectors must have the same dimension.\")\n",
        "\n",
        "#Covariance represents the relation between two variable and essentially a measure of variance.\n",
        "covariance = np.mean((vec1-mean1) * (vec2-mean2))\n",
        "\n",
        "print(\"Vector 1: \", vec1)\n",
        "print(\"Vector 2: \", vec2)\n",
        "print(\"Covariance: \", covariance)"
      ],
      "metadata": {
        "colab": {
          "base_uri": "https://localhost:8080/"
        },
        "id": "THOLiwjtHDnL",
        "outputId": "62c248d6-14aa-451a-b9a1-c531b6ee1624"
      },
      "execution_count": null,
      "outputs": [
        {
          "output_type": "stream",
          "name": "stdout",
          "text": [
            "Vector 1:  [1 2 3 4 5]\n",
            "Vector 2:  [1 3 4 5 2]\n",
            "Covariance:  0.8\n"
          ]
        }
      ]
    },
    {
      "cell_type": "code",
      "source": [
        "import numpy as np\n",
        "\n",
        "#creating two vectors\n",
        "vec1 = np.array([1,2,3,4,5])\n",
        "vec2 = np.array([1,3,4,5,2])\n",
        "\n",
        "mean1 = np.mean(vec1)\n",
        "mean2 = np.mean(vec2)\n",
        "\n",
        "if vec1.shape[0] != vec2.shape[0]:\n",
        "    raise ValueError(\"Vectors must have the same dimension.\")\n",
        "\n",
        "#Covariance represents the relation between two variable and essentially a measure of variance.\n",
        "covariance = np.mean((vec1-mean1) * (vec2-mean2))\n",
        "\n",
        "std_vec1 = np.std(vec1)\n",
        "std_vec2 = np.std(vec2)\n",
        "\n",
        "#correlaiton quantifies the strength and direction of a linear relation between two variables\n",
        "correlation = covariance / (std_vec1 * std_vec2)\n",
        "\n",
        "print(\"Vector 1: \", vec1)\n",
        "print(\"Vector 2: \", vec2)\n",
        "print(\"Covariance: \", covariance)\n",
        "print(\"Correlation: \", correlation)"
      ],
      "metadata": {
        "colab": {
          "base_uri": "https://localhost:8080/"
        },
        "id": "STo0xkJ6IHOH",
        "outputId": "a8675eb3-9602-484c-caf7-f7beb4209e8c"
      },
      "execution_count": null,
      "outputs": [
        {
          "output_type": "stream",
          "name": "stdout",
          "text": [
            "Vector 1:  [1 2 3 4 5]\n",
            "Vector 2:  [1 3 4 5 2]\n",
            "Covariance:  0.8\n",
            "Correlation:  0.3999999999999999\n"
          ]
        }
      ]
    },
    {
      "cell_type": "code",
      "source": [
        "import numpy as np\n",
        "\n",
        "data_matrix = np.array([\n",
        "    [2, 4, 6, 8],\n",
        "    [1, 3, 5, 7],\n",
        "    [5, 6, 2, 1]\n",
        "])\n",
        "\n",
        "covariance_matrix = np.cov(data_matrix, bias=False, rowvar=True)\n",
        "\n",
        "correlation_matrix = np.corrcoef(data_matrix, rowvar=True)\n",
        "\n",
        "print(\"Covariance Matrix:\\n\", covariance_matrix)\n",
        "print(\"\\nCorrelation Matrix:\\n\", correlation_matrix)"
      ],
      "metadata": {
        "colab": {
          "base_uri": "https://localhost:8080/"
        },
        "id": "GW7Fc1OgJb3d",
        "outputId": "3df34d31-9b73-46db-e29f-1a24e0a7d9fa"
      },
      "execution_count": null,
      "outputs": [
        {
          "output_type": "stream",
          "name": "stdout",
          "text": [
            "Covariance Matrix:\n",
            " [[ 6.66666667  6.66666667 -5.33333333]\n",
            " [ 6.66666667  6.66666667 -5.33333333]\n",
            " [-5.33333333 -5.33333333  5.66666667]]\n",
            "\n",
            "Correlation Matrix:\n",
            " [[ 1.          1.         -0.86772183]\n",
            " [ 1.          1.         -0.86772183]\n",
            " [-0.86772183 -0.86772183  1.        ]]\n"
          ]
        }
      ]
    }
  ]
}